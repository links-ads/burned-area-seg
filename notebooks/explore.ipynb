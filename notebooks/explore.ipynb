{
 "cells": [
  {
   "attachments": {},
   "cell_type": "markdown",
   "metadata": {},
   "source": [
    "# Data Visualization and Exploration\n",
    "\n",
    "Simple notebook to visualize data"
   ]
  },
  {
   "cell_type": "code",
   "execution_count": null,
   "metadata": {},
   "outputs": [],
   "source": [
    "import os\n",
    "from pathlib import Path"
   ]
  },
  {
   "cell_type": "code",
   "execution_count": null,
   "metadata": {},
   "outputs": [],
   "source": [
    "# change working directory to the root of the project\n",
    "cwd = Path.cwd()\n",
    "if cwd.name == \"notebooks\":\n",
    "    os.chdir(\"..\")"
   ]
  },
  {
   "cell_type": "code",
   "execution_count": null,
   "metadata": {},
   "outputs": [],
   "source": [
    "import numpy as np\n",
    "import albumentations as alb\n",
    "from albumentations.pytorch import ToTensorV2\n",
    "from matplotlib import pyplot as plt\n",
    "from torch.utils.data import DataLoader\n",
    "\n",
    "from baseg.datasets import EMSImageDataset, EMSCropDataset\n",
    "from baseg.samplers import RandomTiledSampler\n"
   ]
  },
  {
   "cell_type": "code",
   "execution_count": null,
   "metadata": {},
   "outputs": [],
   "source": [
    "targets = {\n",
    "    \"S2L2A\": \"image\",\n",
    "    \"DEL\": \"mask\",\n",
    "    \"CM\": \"mask\",\n",
    "    \"GRA\": \"mask\",\n",
    "    \"ESA_LC\": \"mask\",\n",
    "}"
   ]
  },
  {
   "cell_type": "code",
   "execution_count": null,
   "metadata": {},
   "outputs": [],
   "source": [
    "train_transform = alb.Compose(\n",
    "    [\n",
    "        alb.Flip(),\n",
    "        alb.RandomRotate90(),\n",
    "        alb.RandomBrightnessContrast(brightness_limit=0.01, contrast_limit=0.01),\n",
    "        ToTensorV2(),\n",
    "    ], additional_targets=targets)\n",
    "eval_transform = alb.Compose([\n",
    "    ToTensorV2(),\n",
    "], additional_targets=targets)"
   ]
  },
  {
   "cell_type": "code",
   "execution_count": null,
   "metadata": {},
   "outputs": [],
   "source": [
    "dataset = EMSImageDataset(root=Path(\"data/ems\"), subset=\"train\", transform=train_transform, mask_landcover=True)\n",
    "crop_dataset = EMSCropDataset(root=Path(\"data/ems\"), subset=\"train\", transform=train_transform, mask_landcover=True)\n",
    "val_dataset = EMSImageDataset(root=Path(\"data/ems\"), subset=\"val\", transform=eval_transform, mask_landcover=True)\n",
    "val_crop_dataset = EMSCropDataset(root=Path(\"data/ems\"), subset=\"val\", transform=eval_transform, mask_landcover=True)"
   ]
  },
  {
   "cell_type": "code",
   "execution_count": null,
   "metadata": {},
   "outputs": [],
   "source": [
    "len(dataset), len(crop_dataset), len(val_dataset), len(val_crop_dataset)"
   ]
  },
  {
   "cell_type": "code",
   "execution_count": null,
   "metadata": {},
   "outputs": [],
   "source": [
    "def mask2rgb(image: np.ndarray, palette: dict) -> np.ndarray:\n",
    "    lut = np.zeros((256, 3), dtype=np.uint8)\n",
    "    for k, v in palette.items():\n",
    "        lut[k, :] = v\n",
    "    return lut[image]"
   ]
  },
  {
   "cell_type": "code",
   "execution_count": null,
   "metadata": {},
   "outputs": [],
   "source": [
    "loader = DataLoader(\n",
    "    crop_dataset,\n",
    "    sampler=RandomTiledSampler(crop_dataset, tile_size=256),\n",
    "    batch_size=4,\n",
    "    num_workers=4,\n",
    "    pin_memory=True,\n",
    ")"
   ]
  },
  {
   "cell_type": "code",
   "execution_count": null,
   "metadata": {},
   "outputs": [],
   "source": [
    "from IPython import display\n",
    "\n",
    "\n",
    "for batch in loader:\n",
    "    for i in range(len(batch)):\n",
    "        s2 = batch[\"S2L2A\"][i][[3,2,1]].numpy()\n",
    "        lc = batch[\"ESA_LC\"][i].numpy().astype(np.uint8)\n",
    "        msk = batch[\"DEL\"][i].numpy().astype(np.uint8)\n",
    "        s2 = np.moveaxis(s2, 0, -1) * 3\n",
    "        s2 = np.clip(s2, 0, 1)\n",
    "        lc = mask2rgb(lc, palette=crop_dataset.palette)\n",
    "        fig, ax = plt.subplots(1, 3, figsize=(10, 5))\n",
    "        plt.title(batch[\"metadata\"][\"S2L2A\"][i])\n",
    "        ax[0].imshow(s2)\n",
    "        ax[1].imshow(lc)\n",
    "        ax[2].imshow(msk)\n",
    "        plt.show()\n",
    "    \n",
    "    input(\"Press Enter to continue...\")\n",
    "    plt.close(\"all\")\n",
    "    display.clear_output(wait=True)"
   ]
  },
  {
   "cell_type": "code",
   "execution_count": null,
   "metadata": {},
   "outputs": [],
   "source": [
    "loader = DataLoader(\n",
    "    dataset,\n",
    "    batch_size=1,\n",
    "    num_workers=1,\n",
    "    pin_memory=True,\n",
    ")"
   ]
  },
  {
   "cell_type": "code",
   "execution_count": null,
   "metadata": {},
   "outputs": [],
   "source": [
    "\n",
    "for batch in loader:\n",
    "    length = batch[\"S2L2A\"].shape[0]\n",
    "    for i in range(length):\n",
    "        print(batch[\"metadata\"][\"S2L2A\"][i])\n",
    "        s2 = batch[\"S2L2A\"][i][[3,2,1]].numpy()\n",
    "        lc = batch[\"ESA_LC\"][i].numpy().astype(np.uint8)\n",
    "        msk = batch[\"DEL\"][i].numpy().astype(np.uint8)\n",
    "        s2 = np.moveaxis(s2, 0, -1) * 3\n",
    "        s2 = np.clip(s2, 0, 1)\n",
    "        lc = mask2rgb(lc, palette=crop_dataset.palette)\n",
    "        dl = mask2rgb(msk, palette=crop_dataset.palette)\n",
    "        fig, ax = plt.subplots(1, 3, figsize=(15, 7))\n",
    "        ax[0].imshow(s2)\n",
    "        ax[1].imshow(lc)\n",
    "        ax[2].imshow(dl)\n",
    "        plt.show()\n",
    "        \n",
    "    input(\"Press Enter to continue...\")\n",
    "    plt.close(\"all\")\n",
    "    display.clear_output(wait=True)"
   ]
  }
 ],
 "metadata": {
  "kernelspec": {
   "display_name": ".venv",
   "language": "python",
   "name": "python3"
  },
  "language_info": {
   "codemirror_mode": {
    "name": "ipython",
    "version": 3
   },
   "file_extension": ".py",
   "mimetype": "text/x-python",
   "name": "python",
   "nbconvert_exporter": "python",
   "pygments_lexer": "ipython3",
   "version": "3.10.11"
  },
  "orig_nbformat": 4
 },
 "nbformat": 4,
 "nbformat_minor": 2
}
