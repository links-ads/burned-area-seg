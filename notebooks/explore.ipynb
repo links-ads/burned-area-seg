{
 "cells": [
  {
   "attachments": {},
   "cell_type": "markdown",
   "metadata": {},
   "source": [
    "# Data Visualization and Exploration\n",
    "\n",
    "Simple notebook to visualize data"
   ]
  },
  {
   "cell_type": "code",
   "execution_count": 1,
   "metadata": {},
   "outputs": [],
   "source": [
    "import os\n",
    "from pathlib import Path"
   ]
  },
  {
   "cell_type": "code",
   "execution_count": 2,
   "metadata": {},
   "outputs": [],
   "source": [
    "# change working directory to the root of the project\n",
    "cwd = Path.cwd()\n",
    "if cwd.name == \"notebooks\":\n",
    "    os.chdir(\"..\")"
   ]
  },
  {
   "cell_type": "code",
   "execution_count": 3,
   "metadata": {},
   "outputs": [],
   "source": [
    "import numpy as np\n",
    "import albumentations as alb\n",
    "from albumentations.pytorch import ToTensorV2\n",
    "from matplotlib import pyplot as plt\n",
    "\n",
    "from baseg.datasets import EMSImageDataset, EMSCropDataset\n",
    "from baseg.samplers import RandomTiledBatchSampler\n"
   ]
  },
  {
   "cell_type": "code",
   "execution_count": 4,
   "metadata": {},
   "outputs": [],
   "source": [
    "targets = {\n",
    "    \"S2L2A\": \"image\",\n",
    "    \"DEL\": \"mask\",\n",
    "    \"CM\": \"mask\",\n",
    "    \"GRA\": \"mask\",\n",
    "    \"ESA_LC\": \"mask\",\n",
    "}"
   ]
  },
  {
   "cell_type": "code",
   "execution_count": 5,
   "metadata": {},
   "outputs": [],
   "source": [
    "train_transform = alb.Compose(\n",
    "    [\n",
    "        alb.Flip(),\n",
    "        alb.RandomRotate90(),\n",
    "        alb.RandomBrightnessContrast(brightness_limit=0.1, contrast_limit=0.1),\n",
    "        ToTensorV2(),\n",
    "    ], additional_targets=targets)\n",
    "eval_transform = alb.Compose([\n",
    "    ToTensorV2(),\n",
    "], additional_targets=targets)"
   ]
  },
  {
   "cell_type": "code",
   "execution_count": 6,
   "metadata": {},
   "outputs": [],
   "source": [
    "dataset = EMSImageDataset(root=Path(\"data/ems\"), subset=\"train\", transform=train_transform)\n",
    "crop_dataset = EMSCropDataset(root=Path(\"data/ems\"), subset=\"train\", transform=train_transform)\n",
    "val_dataset = EMSImageDataset(root=Path(\"data/ems\"), subset=\"val\", transform=eval_transform)\n",
    "val_crop_dataset = EMSCropDataset(root=Path(\"data/ems\"), subset=\"val\", transform=eval_transform)"
   ]
  },
  {
   "cell_type": "code",
   "execution_count": 7,
   "metadata": {},
   "outputs": [
    {
     "data": {
      "text/plain": [
       "(399, 399, 62, 62)"
      ]
     },
     "execution_count": 7,
     "metadata": {},
     "output_type": "execute_result"
    }
   ],
   "source": [
    "len(dataset), len(crop_dataset), len(val_dataset), len(val_crop_dataset)"
   ]
  },
  {
   "cell_type": "code",
   "execution_count": 8,
   "metadata": {},
   "outputs": [],
   "source": [
    "def mask2rgb(image: np.ndarray, palette: dict) -> np.ndarray:\n",
    "    lut = np.zeros((256, 3), dtype=np.uint8)\n",
    "    for k, v in palette.items():\n",
    "        lut[k, :] = v\n",
    "    return lut[image]"
   ]
  },
  {
   "cell_type": "code",
   "execution_count": null,
   "metadata": {},
   "outputs": [],
   "source": [
    "sampler = RandomTiledBatchSampler(dataset=crop_dataset, tile_size=512, batch_size=8)\n",
    "print(len(sampler))\n",
    "\n",
    "batch = next(iter(sampler))\n",
    "for bounds in batch:\n",
    "    sample = crop_dataset[bounds]\n",
    "    print(sample.keys())\n",
    "    s2 = sample[\"S2L2A\"][[3,2,1]].numpy()\n",
    "    lc = sample[\"ESA_LC\"].numpy().astype(np.uint8)\n",
    "    msk = sample[\"DEL\"].numpy().astype(np.uint8)\n",
    "    s2 = np.moveaxis(s2, 0, -1) * 3\n",
    "    s2 = np.clip(s2, 0, 1)\n",
    "    lc = mask2rgb(lc, palette=crop_dataset.palette)\n",
    "    fig, ax = plt.subplots(1, 3, figsize=(10, 5))\n",
    "    ax[0].imshow(s2)\n",
    "    ax[1].imshow(lc)\n",
    "    ax[2].imshow(msk)\n",
    "    plt.show()"
   ]
  }
 ],
 "metadata": {
  "kernelspec": {
   "display_name": ".venv",
   "language": "python",
   "name": "python3"
  },
  "language_info": {
   "codemirror_mode": {
    "name": "ipython",
    "version": 3
   },
   "file_extension": ".py",
   "mimetype": "text/x-python",
   "name": "python",
   "nbconvert_exporter": "python",
   "pygments_lexer": "ipython3",
   "version": "3.10.11"
  },
  "orig_nbformat": 4
 },
 "nbformat": 4,
 "nbformat_minor": 2
}
