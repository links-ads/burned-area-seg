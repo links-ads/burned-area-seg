{
 "cells": [
  {
   "attachments": {},
   "cell_type": "markdown",
   "metadata": {},
   "source": [
    "# Data Visualization and Exploration\n",
    "\n",
    "Simple notebook to visualize data"
   ]
  },
  {
   "cell_type": "code",
   "execution_count": 1,
   "metadata": {},
   "outputs": [],
   "source": [
    "import os\n",
    "from pathlib import Path"
   ]
  },
  {
   "cell_type": "code",
   "execution_count": 2,
   "metadata": {},
   "outputs": [],
   "source": [
    "# change working directory to the root of the project\n",
    "cwd = Path.cwd()\n",
    "if cwd.name == \"notebooks\":\n",
    "    os.chdir(\"..\")"
   ]
  },
  {
   "cell_type": "code",
   "execution_count": 27,
   "metadata": {},
   "outputs": [],
   "source": [
    "import numpy as np\n",
    "import rasterio as rio\n",
    "import shutil\n",
    "from matplotlib import pyplot as plt\n",
    "from PIL import Image\n",
    "from tqdm import tqdm\n",
    "from baseg.datasets import EMSImageDataset"
   ]
  },
  {
   "cell_type": "code",
   "execution_count": 4,
   "metadata": {},
   "outputs": [],
   "source": [
    "targets = {\n",
    "    \"S2L2A\": \"image\",\n",
    "    \"DEL\": \"mask\",\n",
    "    \"CM\": \"mask\",\n",
    "    \"GRA\": \"mask\",\n",
    "    \"ESA_LC\": \"mask\",\n",
    "}"
   ]
  },
  {
   "cell_type": "code",
   "execution_count": 5,
   "metadata": {},
   "outputs": [],
   "source": [
    "def mask2rgb(image: np.ndarray, palette: dict) -> np.ndarray:\n",
    "    lut = np.zeros((256, 3), dtype=np.uint8)\n",
    "    for k, v in palette.items():\n",
    "        lut[k, :] = v\n",
    "    return lut[image]"
   ]
  },
  {
   "cell_type": "code",
   "execution_count": 6,
   "metadata": {},
   "outputs": [],
   "source": [
    "def create_mask(image, palette):\n",
    "    # Load the RGB image\n",
    "    image_array = np.array(image)\n",
    "    # Create an empty mask array\n",
    "    mask = np.zeros((image_array.shape[0], image_array.shape[1]), dtype=np.uint8)\n",
    "\n",
    "    # Iterate over each pixel in the image\n",
    "    for i in range(image_array.shape[0]):\n",
    "        for j in range(image_array.shape[1]):\n",
    "            # Find the closest color in the palette\n",
    "            pixel_color = tuple(image_array[i, j])\n",
    "            closest_color = min(palette, key=lambda x: np.linalg.norm(np.array(x) - np.array(pixel_color)))\n",
    "            \n",
    "            # Assign the class index to the mask\n",
    "            mask[i, j] = palette.index(closest_color)\n",
    "\n",
    "    return mask"
   ]
  },
  {
   "cell_type": "code",
   "execution_count": 14,
   "metadata": {},
   "outputs": [
    {
     "data": {
      "text/plain": [
       "560"
      ]
     },
     "execution_count": 14,
     "metadata": {},
     "output_type": "execute_result"
    }
   ],
   "source": [
    "root_path = Path(\"data/ems\")\n",
    "images = list(root_path.glob(\"**/*S2L2A.tif\"))\n",
    "len(images)"
   ]
  },
  {
   "cell_type": "code",
   "execution_count": 15,
   "metadata": {},
   "outputs": [],
   "source": [
    "def read_image(path: Path, bands: list = None, return_profile: bool = False) -> np.ndarray:\n",
    "    \"\"\"Read a raster image from disk.\"\"\"\n",
    "    with rio.open(path) as dataset:\n",
    "        if bands is None:\n",
    "            bands = dataset.indexes\n",
    "        image = dataset.read(bands)\n",
    "        if return_profile:\n",
    "            return image, dataset.profile\n",
    "        return image"
   ]
  },
  {
   "cell_type": "code",
   "execution_count": 16,
   "metadata": {},
   "outputs": [],
   "source": [
    "def write_image(path: Path, image: np.ndarray, profile: dict) -> None:\n",
    "    with rio.open(path, \"w\", **profile) as dst:\n",
    "        dst.write(image)"
   ]
  },
  {
   "cell_type": "code",
   "execution_count": 23,
   "metadata": {},
   "outputs": [],
   "source": [
    "def create_mask(image, palette: dict):\n",
    "    # Load the RGB image\n",
    "    image_array = np.array(image)\n",
    "    # Create an empty mask array\n",
    "    mask = np.zeros((image_array.shape[0], image_array.shape[1]), dtype=np.uint8)\n",
    "    inv_palette = {v: k for k, v in palette.items()}\n",
    "\n",
    "    # Iterate over each pixel in the image\n",
    "    for i in range(image_array.shape[0]):\n",
    "        for j in range(image_array.shape[1]):\n",
    "            # Find the closest color in the palette\n",
    "            pixel_color = tuple(image_array[i, j])\n",
    "            mask_category = inv_palette[pixel_color]\n",
    "            \n",
    "            # Assign the class index to the mask\n",
    "            mask[i, j] = mask_category\n",
    "\n",
    "    return np.expand_dims(mask, axis=0)"
   ]
  },
  {
   "cell_type": "code",
   "execution_count": 29,
   "metadata": {},
   "outputs": [
    {
     "data": {
      "text/plain": [
       "{0, 1, 2, 3, 4, 5, 6, 7, 8, 9, 10, 255}"
      ]
     },
     "execution_count": 29,
     "metadata": {},
     "output_type": "execute_result"
    }
   ],
   "source": [
    "indices = list(EMSImageDataset.palette.keys())\n",
    "indices = set(indices)\n",
    "indices"
   ]
  },
  {
   "cell_type": "code",
   "execution_count": 36,
   "metadata": {},
   "outputs": [],
   "source": [
    "def process_image(image_path, clean=True):\n",
    "    image, profile = read_image(image_path, return_profile=True)\n",
    "    png_path = image_path.parent / image_path.name.replace(\"S2L2A.tif\", \"ESA_LC.png\")\n",
    "    assert png_path.exists()\n",
    "\n",
    "    # Load and resize the mask\n",
    "    png_mask = Image.open(png_path)\n",
    "    png_mask = png_mask.resize(image.shape[1:], resample=Image.NEAREST)\n",
    "    mask = np.asarray(png_mask).astype(np.uint8)\n",
    "    mask = create_mask(png_mask, EMSImageDataset.palette)\n",
    "\n",
    "    mask_path = image_path.parent / png_path.name.replace(\".png\", \".tif\")\n",
    "    if mask_path.exists() and clean:\n",
    "        old_path = mask_path.parent / (mask_path.name.replace(\".tif\", \"_old.tif\"))\n",
    "        shutil.move(mask_path, old_path)\n",
    "    profile.update(dtype=np.uint8, count=1)\n",
    "    write_image(mask_path, mask, profile)"
   ]
  },
  {
   "cell_type": "code",
   "execution_count": 37,
   "metadata": {},
   "outputs": [
    {
     "name": "stderr",
     "output_type": "stream",
     "text": [
      "100%|██████████| 560/560 [03:43<00:00,  2.51it/s]\n"
     ]
    }
   ],
   "source": [
    "import multiprocessing\n",
    "from functools import partial\n",
    "\n",
    "clean = True\n",
    "num_processes = multiprocessing.cpu_count() // 4 # Number of parallel processes\n",
    "pool = multiprocessing.Pool(processes=num_processes)\n",
    "parallel_fn = partial(process_image, clean=clean)\n",
    "\n",
    "# Process images in parallel using the pool\n",
    "with tqdm(total=len(images)) as pbar:\n",
    "    for _ in pool.imap_unordered(parallel_fn, images):\n",
    "        pbar.update(1)\n",
    "\n",
    "# Close the pool to free resources\n",
    "pool.close()\n",
    "pool.join()"
   ]
  },
  {
   "cell_type": "code",
   "execution_count": 50,
   "metadata": {},
   "outputs": [
    {
     "name": "stderr",
     "output_type": "stream",
     "text": [
      "100%|██████████| 560/560 [10:18<00:00,  1.10s/it]\n"
     ]
    }
   ],
   "source": [
    "output_path = Path(\"data/ems/plots\")\n",
    "\n",
    "# iterate images, gather the equivalent mask and plot it\n",
    "for image_path in tqdm(images):\n",
    "    image, profile = read_image(image_path, bands=(4, 3, 2), return_profile=True)\n",
    "    mask_path = image_path.parent / image_path.name.replace(\"S2L2A.tif\", \"ESA_LC.tif\")\n",
    "    del_path = image_path.parent / image_path.name.replace(\"S2L2A.tif\", \"DEL.tif\")\n",
    "    # read and/or transform to obtain an rgb\n",
    "    image = np.clip(image.transpose(1, 2, 0) * 3, 0, 1)\n",
    "    mask = read_image(mask_path)\n",
    "    mask = mask2rgb(mask[0], EMSImageDataset.palette)\n",
    "    delineation = mask2rgb(read_image(del_path)[0], EMSImageDataset.palette)\n",
    "    assert mask.shape == image.shape == delineation.shape\n",
    "\n",
    "    fig, ax = plt.subplots(1, 3, figsize=(15, 5))\n",
    "    ax[0].imshow(image)\n",
    "    ax[1].imshow(mask)\n",
    "    ax[2].imshow(delineation)\n",
    "    # save the plot to disk\n",
    "    output_path.mkdir(exist_ok=True)\n",
    "    plt.savefig(output_path / f\"{image_path.stem}.png\")\n",
    "    plt.close(\"all\")"
   ]
  }
 ],
 "metadata": {
  "kernelspec": {
   "display_name": ".venv",
   "language": "python",
   "name": "python3"
  },
  "language_info": {
   "codemirror_mode": {
    "name": "ipython",
    "version": 3
   },
   "file_extension": ".py",
   "mimetype": "text/x-python",
   "name": "python",
   "nbconvert_exporter": "python",
   "pygments_lexer": "ipython3",
   "version": "3.10.11"
  },
  "orig_nbformat": 4
 },
 "nbformat": 4,
 "nbformat_minor": 2
}
